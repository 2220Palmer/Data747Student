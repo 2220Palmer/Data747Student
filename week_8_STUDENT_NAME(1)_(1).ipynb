{
  "cells": [
    {
      "cell_type": "markdown",
      "metadata": {
        "id": "view-in-github",
        "colab_type": "text"
      },
      "source": [
        "<a href=\"https://colab.research.google.com/github/2220Palmer/Data747Student/blob/main/week_8_STUDENT_NAME(1)_(1).ipynb\" target=\"_parent\"><img src=\"https://colab.research.google.com/assets/colab-badge.svg\" alt=\"Open In Colab\"/></a>"
      ]
    },
    {
      "cell_type": "markdown",
      "metadata": {
        "id": "qp7ld7llxZ_R"
      },
      "source": [
        "## Lab Assignment: Data Cleaning and Preparation\n",
        "Student:     **Patty Arnold**\n",
        "\n",
        "### Objective: To apply the techniques learned in class to clean and prepare data for analysis. Specifically, students will learn how to handle missing values, duplicates, and outliers in data. By the end of the lab assignment, students should be able to clean and prepare data for further analysis using Python.\n",
        "\n",
        "### Instructions:\n",
        "1. Download and import the \"Adult Income\" dataset from the UCI Machine Learning Repository.\n",
        "2. Load the data into a DataFrame.\n",
        "3. Explore the dataset and identify missing values, duplicates, and outliers.\n",
        "4. Use appropriate techniques to handle missing values, duplicates, and outliers.\n",
        "5. Perform basic data analysis on the cleaned dataset to answer the following questions.\n",
        "6. Save the cleaned dataset to a CSV file for further analysis.\n",
        "\n",
        "### Dataset\n",
        "The \"Adult Income\" dataset contains information about individuals, including their age, education, work class, marital status, occupation, race, gender, native country, and income. The dataset contains 48,842 rows and 14 columns.\n",
        "\n",
        "### Deliverable:\n",
        "Modify this notebook to include the python code as well as any documentation related to your submission.  Submit the notebook as your response in Blackboard.\n",
        "\n",
        "### Grading Criteria:\n",
        "\n",
        "Your lab assignment will be graded based on the following criteria:\n",
        "\n",
        "- Correctness of the implementation\n",
        "- Proper use of basic control structures and functions\n",
        "- Code efficiency\n",
        "- Clarity and readability of the code\n",
        "- Compliance with the instructions and deliverables.\n",
        "\n",
        "### Student Submission\n",
        "Download aind import the \"Adult Income\" dataset into a pandas dataframe"
      ]
    },
    {
      "cell_type": "markdown",
      "metadata": {
        "id": "Wnhj1J9RxZ_Y"
      },
      "source": [
        "Download and import the \"Adult Income\" dataset from the UCI Machine Learning Repository:"
      ]
    },
    {
      "cell_type": "code",
      "execution_count": 9,
      "metadata": {
        "colab": {
          "base_uri": "https://localhost:8080/"
        },
        "id": "zuHI5M-GxZ_Y",
        "outputId": "aa402e4e-95d0-4d0b-b207-8c59e86947a5"
      },
      "outputs": [
        {
          "output_type": "stream",
          "name": "stdout",
          "text": [
            "   age         workclass  fnlwgt  education  education-num  \\\n",
            "0   39         State-gov   77516  Bachelors             13   \n",
            "1   50  Self-emp-not-inc   83311  Bachelors             13   \n",
            "2   38           Private  215646    HS-grad              9   \n",
            "3   53           Private  234721       11th              7   \n",
            "4   28           Private  338409  Bachelors             13   \n",
            "\n",
            "       marital-status         occupation   relationship   race     sex  \\\n",
            "0       Never-married       Adm-clerical  Not-in-family  White    Male   \n",
            "1  Married-civ-spouse    Exec-managerial        Husband  White    Male   \n",
            "2            Divorced  Handlers-cleaners  Not-in-family  White    Male   \n",
            "3  Married-civ-spouse  Handlers-cleaners        Husband  Black    Male   \n",
            "4  Married-civ-spouse     Prof-specialty           Wife  Black  Female   \n",
            "\n",
            "   capital-gain  capital-loss  hours-per-week native-country income  \n",
            "0          2174             0              40  United-States  <=50K  \n",
            "1             0             0              13  United-States  <=50K  \n",
            "2             0             0              40  United-States  <=50K  \n",
            "3             0             0              40  United-States  <=50K  \n",
            "4             0             0              40           Cuba  <=50K  \n",
            "   age  workclass  fnlwgt     education  education-num      marital-status  \\\n",
            "0   38    Private   89814       HS-grad              9  Married-civ-spouse   \n",
            "1   28  Local-gov  336951    Assoc-acdm             12  Married-civ-spouse   \n",
            "2   44    Private  160323  Some-college             10  Married-civ-spouse   \n",
            "3   18          ?  103497  Some-college             10       Never-married   \n",
            "4   34    Private  198693          10th              6       Never-married   \n",
            "\n",
            "          occupation   relationship   race     sex  capital-gain  \\\n",
            "0    Farming-fishing        Husband  White    Male             0   \n",
            "1    Protective-serv        Husband  White    Male             0   \n",
            "2  Machine-op-inspct        Husband  Black    Male          7688   \n",
            "3                  ?      Own-child  White  Female             0   \n",
            "4      Other-service  Not-in-family  White    Male             0   \n",
            "\n",
            "   capital-loss  hours-per-week native-country  income  \n",
            "0             0              50  United-States  <=50K.  \n",
            "1             0              40  United-States   >50K.  \n",
            "2             0              40  United-States   >50K.  \n",
            "3             0              30  United-States  <=50K.  \n",
            "4             0              30  United-States  <=50K.  \n",
            "   age         workclass  fnlwgt  education  education-num  \\\n",
            "0   39         State-gov   77516  Bachelors             13   \n",
            "1   50  Self-emp-not-inc   83311  Bachelors             13   \n",
            "2   38           Private  215646    HS-grad              9   \n",
            "3   53           Private  234721       11th              7   \n",
            "4   28           Private  338409  Bachelors             13   \n",
            "\n",
            "       marital-status         occupation   relationship   race     sex  \\\n",
            "0       Never-married       Adm-clerical  Not-in-family  White    Male   \n",
            "1  Married-civ-spouse    Exec-managerial        Husband  White    Male   \n",
            "2            Divorced  Handlers-cleaners  Not-in-family  White    Male   \n",
            "3  Married-civ-spouse  Handlers-cleaners        Husband  Black    Male   \n",
            "4  Married-civ-spouse     Prof-specialty           Wife  Black  Female   \n",
            "\n",
            "   capital-gain  capital-loss  hours-per-week native-country income  \n",
            "0          2174             0              40  United-States  <=50K  \n",
            "1             0             0              13  United-States  <=50K  \n",
            "2             0             0              40  United-States  <=50K  \n",
            "3             0             0              40  United-States  <=50K  \n",
            "4             0             0              40           Cuba  <=50K  \n"
          ]
        }
      ],
      "source": [
        "import pandas as pd\n",
        "\n",
        "# Define column names based on UCI documentation\n",
        "columns = [\n",
        "    \"age\", \"workclass\", \"fnlwgt\", \"education\", \"education-num\", \"marital-status\",\n",
        "    \"occupation\", \"relationship\", \"race\", \"sex\", \"capital-gain\", \"capital-loss\",\n",
        "    \"hours-per-week\", \"native-country\", \"income\"\n",
        "]\n",
        "\n",
        "# Load training data\n",
        "train_url = \"https://archive.ics.uci.edu/ml/machine-learning-databases/adult/adult.data\"\n",
        "train_data = pd.read_csv(train_url, header=None, names=columns, na_values=\" ?\", skipinitialspace=True)\n",
        "\n",
        "# Load test data\n",
        "test_url = \"https://archive.ics.uci.edu/ml/machine-learning-databases/adult/adult.test\"\n",
        "test_data = pd.read_csv(test_url, header=0, names=columns, na_values=\" ?\", skipinitialspace=True, comment='|')\n",
        "\n",
        "# Preview the data\n",
        "print(train_data.head())\n",
        "print(test_data.head())\n"
      ]
    },
    {
      "cell_type": "markdown",
      "source": [
        "Load the data into a DataFrame"
      ],
      "metadata": {
        "id": "Ui7BRtEo1h4S"
      }
    },
    {
      "cell_type": "code",
      "source": [
        "print(train_data.head())\n",
        "print(test_data.head())"
      ],
      "metadata": {
        "colab": {
          "base_uri": "https://localhost:8080/"
        },
        "id": "nEAt_rzo1sSR",
        "outputId": "996e26da-3a64-4381-baa1-f1634ca2df9e"
      },
      "execution_count": 10,
      "outputs": [
        {
          "output_type": "stream",
          "name": "stdout",
          "text": [
            "   age         workclass  fnlwgt  education  education-num  \\\n",
            "0   39         State-gov   77516  Bachelors             13   \n",
            "1   50  Self-emp-not-inc   83311  Bachelors             13   \n",
            "2   38           Private  215646    HS-grad              9   \n",
            "3   53           Private  234721       11th              7   \n",
            "4   28           Private  338409  Bachelors             13   \n",
            "\n",
            "       marital-status         occupation   relationship   race     sex  \\\n",
            "0       Never-married       Adm-clerical  Not-in-family  White    Male   \n",
            "1  Married-civ-spouse    Exec-managerial        Husband  White    Male   \n",
            "2            Divorced  Handlers-cleaners  Not-in-family  White    Male   \n",
            "3  Married-civ-spouse  Handlers-cleaners        Husband  Black    Male   \n",
            "4  Married-civ-spouse     Prof-specialty           Wife  Black  Female   \n",
            "\n",
            "   capital-gain  capital-loss  hours-per-week native-country income  \n",
            "0          2174             0              40  United-States  <=50K  \n",
            "1             0             0              13  United-States  <=50K  \n",
            "2             0             0              40  United-States  <=50K  \n",
            "3             0             0              40  United-States  <=50K  \n",
            "4             0             0              40           Cuba  <=50K  \n",
            "   age  workclass  fnlwgt     education  education-num      marital-status  \\\n",
            "0   38    Private   89814       HS-grad              9  Married-civ-spouse   \n",
            "1   28  Local-gov  336951    Assoc-acdm             12  Married-civ-spouse   \n",
            "2   44    Private  160323  Some-college             10  Married-civ-spouse   \n",
            "3   18          ?  103497  Some-college             10       Never-married   \n",
            "4   34    Private  198693          10th              6       Never-married   \n",
            "\n",
            "          occupation   relationship   race     sex  capital-gain  \\\n",
            "0    Farming-fishing        Husband  White    Male             0   \n",
            "1    Protective-serv        Husband  White    Male             0   \n",
            "2  Machine-op-inspct        Husband  Black    Male          7688   \n",
            "3                  ?      Own-child  White  Female             0   \n",
            "4      Other-service  Not-in-family  White    Male             0   \n",
            "\n",
            "   capital-loss  hours-per-week native-country  income  \n",
            "0             0              50  United-States  <=50K.  \n",
            "1             0              40  United-States   >50K.  \n",
            "2             0              40  United-States   >50K.  \n",
            "3             0              30  United-States  <=50K.  \n",
            "4             0              30  United-States  <=50K.  \n"
          ]
        }
      ]
    },
    {
      "cell_type": "markdown",
      "source": [
        "Explore the dataset and identify missing values."
      ],
      "metadata": {
        "id": "mTHs4PHL1_Mc"
      }
    },
    {
      "cell_type": "code",
      "source": [
        "# Count missing values in each column\n",
        "print(train_data.isnull().sum())"
      ],
      "metadata": {
        "colab": {
          "base_uri": "https://localhost:8080/"
        },
        "id": "72BifG4Z2jii",
        "outputId": "d40bea20-3d61-451c-d14f-98439624b35e"
      },
      "execution_count": 11,
      "outputs": [
        {
          "output_type": "stream",
          "name": "stdout",
          "text": [
            "age               0\n",
            "workclass         0\n",
            "fnlwgt            0\n",
            "education         0\n",
            "education-num     0\n",
            "marital-status    0\n",
            "occupation        0\n",
            "relationship      0\n",
            "race              0\n",
            "sex               0\n",
            "capital-gain      0\n",
            "capital-loss      0\n",
            "hours-per-week    0\n",
            "native-country    0\n",
            "income            0\n",
            "dtype: int64\n"
          ]
        }
      ]
    },
    {
      "cell_type": "markdown",
      "source": [
        "Explore the dataset and identify duplicates."
      ],
      "metadata": {
        "id": "DOvNvnPv3rDg"
      }
    },
    {
      "cell_type": "code",
      "source": [
        "# Check for duplicate rows\n",
        "duplicates = train_data.duplicated()\n",
        "print(f\"Number of duplicate rows: {duplicates.sum()}\")\n",
        "\n",
        "# View duplicate rows (optional)\n",
        "print(train_data[duplicates])\n"
      ],
      "metadata": {
        "colab": {
          "base_uri": "https://localhost:8080/"
        },
        "id": "k2pft6L63tpf",
        "outputId": "b9189c31-8bb9-4ab1-f4f5-739bd1866805"
      },
      "execution_count": 12,
      "outputs": [
        {
          "output_type": "stream",
          "name": "stdout",
          "text": [
            "Number of duplicate rows: 24\n",
            "       age         workclass  fnlwgt     education  education-num  \\\n",
            "4881    25           Private  308144     Bachelors             13   \n",
            "5104    90           Private   52386  Some-college             10   \n",
            "9171    21           Private  250051  Some-college             10   \n",
            "11631   20           Private  107658  Some-college             10   \n",
            "13084   25           Private  195994       1st-4th              2   \n",
            "15059   21           Private  243368     Preschool              1   \n",
            "17040   46           Private  173243       HS-grad              9   \n",
            "18555   30           Private  144593       HS-grad              9   \n",
            "18698   19           Private   97261       HS-grad              9   \n",
            "21318   19           Private  138153  Some-college             10   \n",
            "21490   19           Private  146679  Some-college             10   \n",
            "21875   49           Private   31267       7th-8th              4   \n",
            "22300   25           Private  195994       1st-4th              2   \n",
            "22367   44           Private  367749     Bachelors             13   \n",
            "22494   49  Self-emp-not-inc   43479  Some-college             10   \n",
            "25872   23           Private  240137       5th-6th              3   \n",
            "26313   28           Private  274679       Masters             14   \n",
            "28230   27           Private  255582       HS-grad              9   \n",
            "28522   42           Private  204235  Some-college             10   \n",
            "28846   39           Private   30916       HS-grad              9   \n",
            "29157   38           Private  207202       HS-grad              9   \n",
            "30845   46           Private  133616  Some-college             10   \n",
            "31993   19           Private  251579  Some-college             10   \n",
            "32404   35           Private  379959       HS-grad              9   \n",
            "\n",
            "           marital-status         occupation   relationship  \\\n",
            "4881        Never-married       Craft-repair  Not-in-family   \n",
            "5104        Never-married      Other-service  Not-in-family   \n",
            "9171        Never-married     Prof-specialty      Own-child   \n",
            "11631       Never-married       Tech-support  Not-in-family   \n",
            "13084       Never-married    Priv-house-serv  Not-in-family   \n",
            "15059       Never-married    Farming-fishing  Not-in-family   \n",
            "17040  Married-civ-spouse       Craft-repair        Husband   \n",
            "18555       Never-married      Other-service  Not-in-family   \n",
            "18698       Never-married    Farming-fishing  Not-in-family   \n",
            "21318       Never-married       Adm-clerical      Own-child   \n",
            "21490       Never-married    Exec-managerial      Own-child   \n",
            "21875  Married-civ-spouse       Craft-repair        Husband   \n",
            "22300       Never-married    Priv-house-serv  Not-in-family   \n",
            "22367       Never-married     Prof-specialty  Not-in-family   \n",
            "22494  Married-civ-spouse       Craft-repair        Husband   \n",
            "25872       Never-married  Handlers-cleaners  Not-in-family   \n",
            "26313       Never-married     Prof-specialty  Not-in-family   \n",
            "28230       Never-married  Machine-op-inspct  Not-in-family   \n",
            "28522  Married-civ-spouse     Prof-specialty        Husband   \n",
            "28846  Married-civ-spouse       Craft-repair        Husband   \n",
            "29157  Married-civ-spouse  Machine-op-inspct        Husband   \n",
            "30845            Divorced       Adm-clerical      Unmarried   \n",
            "31993       Never-married      Other-service      Own-child   \n",
            "32404            Divorced      Other-service  Not-in-family   \n",
            "\n",
            "                     race     sex  capital-gain  capital-loss  hours-per-week  \\\n",
            "4881                White    Male             0             0              40   \n",
            "5104   Asian-Pac-Islander    Male             0             0              35   \n",
            "9171                White  Female             0             0              10   \n",
            "11631               White  Female             0             0              10   \n",
            "13084               White  Female             0             0              40   \n",
            "15059               White    Male             0             0              50   \n",
            "17040               White    Male             0             0              40   \n",
            "18555               Black    Male             0             0              40   \n",
            "18698               White    Male             0             0              40   \n",
            "21318               White  Female             0             0              10   \n",
            "21490               Black    Male             0             0              30   \n",
            "21875               White    Male             0             0              40   \n",
            "22300               White  Female             0             0              40   \n",
            "22367               White  Female             0             0              45   \n",
            "22494               White    Male             0             0              40   \n",
            "25872               White    Male             0             0              55   \n",
            "26313               White    Male             0             0              50   \n",
            "28230               White  Female             0             0              40   \n",
            "28522               White    Male             0             0              40   \n",
            "28846               White    Male             0             0              40   \n",
            "29157               White    Male             0             0              48   \n",
            "30845               White  Female             0             0              40   \n",
            "31993               White    Male             0             0              14   \n",
            "32404               White  Female             0             0              40   \n",
            "\n",
            "      native-country income  \n",
            "4881          Mexico  <=50K  \n",
            "5104   United-States  <=50K  \n",
            "9171   United-States  <=50K  \n",
            "11631  United-States  <=50K  \n",
            "13084      Guatemala  <=50K  \n",
            "15059         Mexico  <=50K  \n",
            "17040  United-States  <=50K  \n",
            "18555              ?  <=50K  \n",
            "18698  United-States  <=50K  \n",
            "21318  United-States  <=50K  \n",
            "21490  United-States  <=50K  \n",
            "21875  United-States  <=50K  \n",
            "22300      Guatemala  <=50K  \n",
            "22367         Mexico  <=50K  \n",
            "22494  United-States  <=50K  \n",
            "25872         Mexico  <=50K  \n",
            "26313  United-States  <=50K  \n",
            "28230  United-States  <=50K  \n",
            "28522  United-States   >50K  \n",
            "28846  United-States  <=50K  \n",
            "29157  United-States   >50K  \n",
            "30845  United-States  <=50K  \n",
            "31993  United-States  <=50K  \n",
            "32404  United-States  <=50K  \n"
          ]
        }
      ]
    },
    {
      "cell_type": "markdown",
      "source": [
        "Explore the dataset and identify outliers."
      ],
      "metadata": {
        "id": "PJRT_9lD4BGW"
      }
    },
    {
      "cell_type": "code",
      "source": [
        "import matplotlib.pyplot as plt\n",
        "import seaborn as sns\n",
        "\n",
        "# Boxplot for numerical features\n",
        "num_cols = train_data.select_dtypes(include=['int64', 'float64']).columns\n",
        "\n",
        "for col in num_cols:\n",
        "    plt.figure(figsize=(6, 2))\n",
        "    sns.boxplot(x=train_data[col])\n",
        "    plt.title(f\"Boxplot of {col}\")\n",
        "    plt.show()\n"
      ],
      "metadata": {
        "colab": {
          "base_uri": "https://localhost:8080/",
          "height": 1000
        },
        "id": "vx3UF7PM4Py6",
        "outputId": "1487ce18-d23c-4fc4-d85b-71b668a540ef"
      },
      "execution_count": 15,
      "outputs": [
        {
          "output_type": "display_data",
          "data": {
            "text/plain": [
              "<Figure size 600x200 with 1 Axes>"
            ],
            "image/png": "[encoded data removed]"
          },
          "metadata": {}
        },
        {
          "output_type": "display_data",
          "data": {
            "text/plain": [
              "<Figure size 600x200 with 1 Axes>"
            ],
            "image/png": "[encoded data removed]"
          },
          "metadata": {}
        },
        {
          "output_type": "display_data",
          "data": {
            "text/plain": [
              "<Figure size 600x200 with 1 Axes>"
            ],
            "image/png": "[encoded data removed]"
          },
          "metadata": {}
        },
        {
          "output_type": "display_data",
          "data": {
            "text/plain": [
              "<Figure size 600x200 with 1 Axes>"
            ],
            "image/png": "[encoded data removed]"
          },
          "metadata": {}
        },
        {
          "output_type": "display_data",
          "data": {
            "text/plain": [
              "<Figure size 600x200 with 1 Axes>"
            ],
            "image/png": "[encoded data removed]"
          },
          "metadata": {}
        },
        {
          "output_type": "display_data",
          "data": {
            "text/plain": [
              "<Figure size 600x200 with 1 Axes>"
            ],
            "image/png": "[encoded data removed]"
          },
          "metadata": {}
        }
      ]
    },
    {
      "cell_type": "markdown",
      "source": [
        "Use appropriate techniques to handle missing values, duplicates, and outliers."
      ],
      "metadata": {
        "id": "lKnyV7375t0V"
      }
    },
    {
      "cell_type": "code",
      "source": [
        "# Identify Missing values\n",
        "\n",
        "print(train_data.isnull().sum())\n",
        "\n",
        "# Handle Missing Values\n",
        "\n",
        "train_data_cleaned = train_data.dropna()\n",
        "\n"
      ],
      "metadata": {
        "colab": {
          "base_uri": "https://localhost:8080/"
        },
        "id": "VUbS16Wg6V9Z",
        "outputId": "2b3ca2e0-9850-4b48-a3df-98fda46bac83"
      },
      "execution_count": 33,
      "outputs": [
        {
          "output_type": "stream",
          "name": "stdout",
          "text": [
            "age               0\n",
            "workclass         0\n",
            "fnlwgt            0\n",
            "education         0\n",
            "education-num     0\n",
            "marital-status    0\n",
            "occupation        0\n",
            "relationship      0\n",
            "race              0\n",
            "sex               0\n",
            "capital-gain      0\n",
            "capital-loss      0\n",
            "hours-per-week    0\n",
            "native-country    0\n",
            "income            0\n",
            "dtype: int64\n"
          ]
        }
      ]
    },
    {
      "cell_type": "markdown",
      "source": [
        "Use appropriate techniques to handle duplicates, and outliers"
      ],
      "metadata": {
        "id": "yFk8_kBZ6rAV"
      }
    },
    {
      "cell_type": "code",
      "source": [
        "# Identify Duplicates\n",
        "\n",
        "print(train_data.duplicated().sum())\n",
        "\n",
        "# Remove Duplicates\n",
        "\n",
        "train_data = train_data.drop_duplicates()\n"
      ],
      "metadata": {
        "colab": {
          "base_uri": "https://localhost:8080/"
        },
        "id": "DYc60Bg66sYS",
        "outputId": "f338ef89-5553-42e3-8a91-f748219352d0"
      },
      "execution_count": 21,
      "outputs": [
        {
          "output_type": "stream",
          "name": "stdout",
          "text": [
            "24\n"
          ]
        }
      ]
    },
    {
      "cell_type": "markdown",
      "source": [
        "Use appropriate techniques to handle outliers"
      ],
      "metadata": {
        "id": "CQzw7uiY7ePW"
      }
    },
    {
      "cell_type": "code",
      "source": [
        "# Identify Outliers\n",
        "\n",
        "# Example for 'hours-per-week'\n",
        "Q1 = train_data['hours-per-week'].quantile(0.25)\n",
        "Q3 = train_data['hours-per-week'].quantile(0.75)\n",
        "IQR = Q3 - Q1\n",
        "\n",
        "# Filter out outliers\n",
        "train_data = train_data[(train_data['hours-per-week'] >= Q1 - 1.5 * IQR) &\n",
        "                        (train_data['hours-per-week'] <= Q3 + 1.5 * IQR)]\n",
        "\n",
        "# Handle Outliers (One way is to remove the outlier)\n",
        "\n"
      ],
      "metadata": {
        "id": "fvuvIvD37oId"
      },
      "execution_count": 25,
      "outputs": []
    },
    {
      "cell_type": "markdown",
      "source": [
        "Perform basic data analysis on the cleaned dataset to answer the following questions"
      ],
      "metadata": {
        "id": "UG7t9jSE9vSQ"
      }
    },
    {
      "cell_type": "code",
      "source": [
        "import seaborn as sns\n",
        "import matplotlib.pyplot as plt\n",
        "\n",
        "# Drop rows with missing values in key columns used below\n",
        "train_data = train_data.dropna(subset=['income', 'age', 'education', 'occupation', 'hours-per-week'])\n",
        "\n",
        "# Overview\n",
        "print(train_data.shape)\n",
        "print(train_data.info())\n",
        "print(train_data.describe(include='all'))\n",
        "\n",
        "# Income distribution\n",
        "print(train_data['income'].value_counts(normalize=True))\n",
        "\n",
        "# Average age by income\n",
        "print(train_data.groupby('income')['age'].mean())\n",
        "\n",
        "# Education vs income\n",
        "edu_income = train_data.groupby(['education', 'income']).size().unstack().fillna(0)\n",
        "print(edu_income)\n",
        "\n",
        "# Top occupations for >50K earners\n",
        "print(train_data[train_data['income'] == '>50K']['occupation'].value_counts().head(5))\n",
        "\n",
        "# Hours-per-week by income\n",
        "sns.boxplot(x='income', y='hours-per-week', data=train_data)\n",
        "plt.title(\"Hours per Week by Income Class\")\n",
        "plt.show()\n",
        "\n",
        "# Did something wrong, with all these \"Null\" and \"Nan\" in the answer\n",
        "\n",
        "#Try to remove the Null Values\n",
        "\n",
        "print(train_data.isnull().sum())\n",
        "\n",
        "for col in ['workclass', 'occupation', 'native-country', 'income']:\n",
        "    if train_data[col].isnull().sum() > 0:\n",
        "        train_data[col].fillna(train_data[col].mode()[0], inplace=True)\n",
        "\n",
        "# Fill numeric columns with median\n",
        "for col in ['age', 'hours-per-week']:\n",
        "    if train_data[col].isnull().sum() > 0:\n",
        "        train_data[col].fillna(train_data[col].median(), inplace=True)\n",
        "\n",
        ""
      ],
      "metadata": {
        "colab": {
          "base_uri": "https://localhost:8080/",
          "height": 1000
        },
        "id": "fCK4iL8i-p-O",
        "outputId": "5c98c152-1f54-4931-e624-0abb2adcb7b4"
      },
      "execution_count": 30,
      "outputs": [
        {
          "output_type": "stream",
          "name": "stdout",
          "text": [
            "(14207, 15)\n",
            "<class 'pandas.core.frame.DataFrame'>\n",
            "Index: 14207 entries, 0 to 32560\n",
            "Data columns (total 15 columns):\n",
            " #   Column          Non-Null Count  Dtype \n",
            "---  ------          --------------  ----- \n",
            " 0   age             14207 non-null  int64 \n",
            " 1   workclass       14207 non-null  object\n",
            " 2   fnlwgt          14207 non-null  int64 \n",
            " 3   education       14207 non-null  object\n",
            " 4   education-num   14207 non-null  int64 \n",
            " 5   marital-status  14207 non-null  object\n",
            " 6   occupation      14207 non-null  object\n",
            " 7   relationship    14207 non-null  object\n",
            " 8   race            14207 non-null  object\n",
            " 9   sex             14207 non-null  object\n",
            " 10  capital-gain    14207 non-null  int64 \n",
            " 11  capital-loss    14207 non-null  int64 \n",
            " 12  hours-per-week  14207 non-null  int64 \n",
            " 13  native-country  14207 non-null  object\n",
            " 14  income          14207 non-null  object\n",
            "dtypes: int64(6), object(9)\n",
            "memory usage: 1.7+ MB\n",
            "None\n",
            "                 age workclass         fnlwgt education  education-num  \\\n",
            "count   14207.000000     14207   14207.000000     14207   14207.000000   \n",
            "unique           NaN         9            NaN        14            NaN   \n",
            "top              NaN   Private            NaN   HS-grad            NaN   \n",
            "freq             NaN     10430            NaN      5246            NaN   \n",
            "mean       38.267544       NaN  188732.223411       NaN       9.895263   \n",
            "std        12.283903       NaN   95611.834511       NaN       2.384930   \n",
            "min        17.000000       NaN   14878.000000       NaN       3.000000   \n",
            "25%        28.000000       NaN  119704.000000       NaN       9.000000   \n",
            "50%        37.000000       NaN  180060.000000       NaN      10.000000   \n",
            "75%        47.000000       NaN  238231.000000       NaN      11.000000   \n",
            "max        75.000000       NaN  506830.000000       NaN      16.000000   \n",
            "\n",
            "            marital-status    occupation relationship   race    sex  \\\n",
            "count                14207         14207        14207  14207  14207   \n",
            "unique                   7            15            6      5      2   \n",
            "top     Married-civ-spouse  Craft-repair      Husband  White   Male   \n",
            "freq                  6492          2262         5736  11720   9516   \n",
            "mean                   NaN           NaN          NaN    NaN    NaN   \n",
            "std                    NaN           NaN          NaN    NaN    NaN   \n",
            "min                    NaN           NaN          NaN    NaN    NaN   \n",
            "25%                    NaN           NaN          NaN    NaN    NaN   \n",
            "50%                    NaN           NaN          NaN    NaN    NaN   \n",
            "75%                    NaN           NaN          NaN    NaN    NaN   \n",
            "max                    NaN           NaN          NaN    NaN    NaN   \n",
            "\n",
            "        capital-gain  capital-loss  hours-per-week native-country income  \n",
            "count   14207.000000  14207.000000         14207.0          14207  14207  \n",
            "unique           NaN           NaN             NaN             41      2  \n",
            "top              NaN           NaN             NaN  United-States  <=50K  \n",
            "freq             NaN           NaN             NaN          12597  11351  \n",
            "mean      462.797001      1.522348            40.0            NaN    NaN  \n",
            "std      1972.251337     37.251417             0.0            NaN    NaN  \n",
            "min         0.000000      0.000000            40.0            NaN    NaN  \n",
            "25%         0.000000      0.000000            40.0            NaN    NaN  \n",
            "50%         0.000000      0.000000            40.0            NaN    NaN  \n",
            "75%         0.000000      0.000000            40.0            NaN    NaN  \n",
            "max     15831.000000   1258.000000            40.0            NaN    NaN  \n",
            "income\n",
            "<=50K    0.798972\n",
            ">50K     0.201028\n",
            "Name: proportion, dtype: float64\n",
            "income\n",
            "<=50K    36.755616\n",
            ">50K     44.276611\n",
            "Name: age, dtype: float64\n",
            "income        <=50K  >50K\n",
            "education                \n",
            "10th            392    24\n",
            "11th            432    26\n",
            "12th            170    20\n",
            "5th-6th         181    10\n",
            "7th-8th         276    16\n",
            "9th             250    11\n",
            "Assoc-acdm      356   102\n",
            "Assoc-voc       539   167\n",
            "Bachelors      1400   727\n",
            "Doctorate        33    74\n",
            "HS-grad        4488   758\n",
            "Masters         302   293\n",
            "Prof-school      43    66\n",
            "Some-college   2489   562\n",
            "occupation\n",
            "Prof-specialty     611\n",
            "Exec-managerial    590\n",
            "Craft-repair       455\n",
            "Adm-clerical       270\n",
            "Sales              267\n",
            "Name: count, dtype: int64\n"
          ]
        },
        {
          "output_type": "display_data",
          "data": {
            "text/plain": [
              "<Figure size 640x480 with 1 Axes>"
            ],
            "image/png": "[encoded data removed]"
          },
          "metadata": {}
        },
        {
          "output_type": "stream",
          "name": "stdout",
          "text": [
            "age               0\n",
            "workclass         0\n",
            "fnlwgt            0\n",
            "education         0\n",
            "education-num     0\n",
            "marital-status    0\n",
            "occupation        0\n",
            "relationship      0\n",
            "race              0\n",
            "sex               0\n",
            "capital-gain      0\n",
            "capital-loss      0\n",
            "hours-per-week    0\n",
            "native-country    0\n",
            "income            0\n",
            "dtype: int64\n"
          ]
        }
      ]
    },
    {
      "cell_type": "markdown",
      "source": [
        "Try to drop \"Null Values; but don't think that worked since the data looks the same."
      ],
      "metadata": {
        "id": "UUxZBcrHCxA1"
      }
    },
    {
      "cell_type": "code",
      "source": [
        "train_data = train_data.dropna()"
      ],
      "metadata": {
        "id": "-Vq392iUCP_M"
      },
      "execution_count": 31,
      "outputs": []
    },
    {
      "cell_type": "code",
      "source": [
        "# Overview\n",
        "print(train_data.shape)\n",
        "print(train_data.info())\n",
        "print(train_data.describe(include='all'))\n",
        "\n",
        "# Income distribution\n",
        "print(train_data['income'].value_counts(normalize=True))\n",
        "\n",
        "# Average age by income\n",
        "print(train_data.groupby('income')['age'].mean())\n",
        "\n",
        "# Education vs income\n",
        "edu_income = train_data.groupby(['education', 'income']).size().unstack().fillna(0)\n",
        "print(edu_income)\n",
        "\n",
        "# Top occupations for >50K earners\n",
        "print(train_data[train_data['income'] == '>50K']['occupation'].value_counts().head(5))\n",
        "\n",
        "# Hours-per-week by income\n",
        "import seaborn as sns\n",
        "import matplotlib.pyplot as plt\n",
        "\n",
        "sns.boxplot(x='income', y='hours-per-week', data=train_data)\n",
        "plt.title(\"Hours per Week by Income Class\")\n",
        "plt.show()\n",
        "\n"
      ],
      "metadata": {
        "colab": {
          "base_uri": "https://localhost:8080/",
          "height": 1000
        },
        "id": "4JQomGFxCUmh",
        "outputId": "650dd307-15ff-4107-ec4d-63babec897b7"
      },
      "execution_count": 32,
      "outputs": [
        {
          "output_type": "stream",
          "name": "stdout",
          "text": [
            "(14207, 15)\n",
            "<class 'pandas.core.frame.DataFrame'>\n",
            "Index: 14207 entries, 0 to 32560\n",
            "Data columns (total 15 columns):\n",
            " #   Column          Non-Null Count  Dtype \n",
            "---  ------          --------------  ----- \n",
            " 0   age             14207 non-null  int64 \n",
            " 1   workclass       14207 non-null  object\n",
            " 2   fnlwgt          14207 non-null  int64 \n",
            " 3   education       14207 non-null  object\n",
            " 4   education-num   14207 non-null  int64 \n",
            " 5   marital-status  14207 non-null  object\n",
            " 6   occupation      14207 non-null  object\n",
            " 7   relationship    14207 non-null  object\n",
            " 8   race            14207 non-null  object\n",
            " 9   sex             14207 non-null  object\n",
            " 10  capital-gain    14207 non-null  int64 \n",
            " 11  capital-loss    14207 non-null  int64 \n",
            " 12  hours-per-week  14207 non-null  int64 \n",
            " 13  native-country  14207 non-null  object\n",
            " 14  income          14207 non-null  object\n",
            "dtypes: int64(6), object(9)\n",
            "memory usage: 1.7+ MB\n",
            "None\n",
            "                 age workclass         fnlwgt education  education-num  \\\n",
            "count   14207.000000     14207   14207.000000     14207   14207.000000   \n",
            "unique           NaN         9            NaN        14            NaN   \n",
            "top              NaN   Private            NaN   HS-grad            NaN   \n",
            "freq             NaN     10430            NaN      5246            NaN   \n",
            "mean       38.267544       NaN  188732.223411       NaN       9.895263   \n",
            "std        12.283903       NaN   95611.834511       NaN       2.384930   \n",
            "min        17.000000       NaN   14878.000000       NaN       3.000000   \n",
            "25%        28.000000       NaN  119704.000000       NaN       9.000000   \n",
            "50%        37.000000       NaN  180060.000000       NaN      10.000000   \n",
            "75%        47.000000       NaN  238231.000000       NaN      11.000000   \n",
            "max        75.000000       NaN  506830.000000       NaN      16.000000   \n",
            "\n",
            "            marital-status    occupation relationship   race    sex  \\\n",
            "count                14207         14207        14207  14207  14207   \n",
            "unique                   7            15            6      5      2   \n",
            "top     Married-civ-spouse  Craft-repair      Husband  White   Male   \n",
            "freq                  6492          2262         5736  11720   9516   \n",
            "mean                   NaN           NaN          NaN    NaN    NaN   \n",
            "std                    NaN           NaN          NaN    NaN    NaN   \n",
            "min                    NaN           NaN          NaN    NaN    NaN   \n",
            "25%                    NaN           NaN          NaN    NaN    NaN   \n",
            "50%                    NaN           NaN          NaN    NaN    NaN   \n",
            "75%                    NaN           NaN          NaN    NaN    NaN   \n",
            "max                    NaN           NaN          NaN    NaN    NaN   \n",
            "\n",
            "        capital-gain  capital-loss  hours-per-week native-country income  \n",
            "count   14207.000000  14207.000000         14207.0          14207  14207  \n",
            "unique           NaN           NaN             NaN             41      2  \n",
            "top              NaN           NaN             NaN  United-States  <=50K  \n",
            "freq             NaN           NaN             NaN          12597  11351  \n",
            "mean      462.797001      1.522348            40.0            NaN    NaN  \n",
            "std      1972.251337     37.251417             0.0            NaN    NaN  \n",
            "min         0.000000      0.000000            40.0            NaN    NaN  \n",
            "25%         0.000000      0.000000            40.0            NaN    NaN  \n",
            "50%         0.000000      0.000000            40.0            NaN    NaN  \n",
            "75%         0.000000      0.000000            40.0            NaN    NaN  \n",
            "max     15831.000000   1258.000000            40.0            NaN    NaN  \n",
            "income\n",
            "<=50K    0.798972\n",
            ">50K     0.201028\n",
            "Name: proportion, dtype: float64\n",
            "income\n",
            "<=50K    36.755616\n",
            ">50K     44.276611\n",
            "Name: age, dtype: float64\n",
            "income        <=50K  >50K\n",
            "education                \n",
            "10th            392    24\n",
            "11th            432    26\n",
            "12th            170    20\n",
            "5th-6th         181    10\n",
            "7th-8th         276    16\n",
            "9th             250    11\n",
            "Assoc-acdm      356   102\n",
            "Assoc-voc       539   167\n",
            "Bachelors      1400   727\n",
            "Doctorate        33    74\n",
            "HS-grad        4488   758\n",
            "Masters         302   293\n",
            "Prof-school      43    66\n",
            "Some-college   2489   562\n",
            "occupation\n",
            "Prof-specialty     611\n",
            "Exec-managerial    590\n",
            "Craft-repair       455\n",
            "Adm-clerical       270\n",
            "Sales              267\n",
            "Name: count, dtype: int64\n"
          ]
        },
        {
          "output_type": "display_data",
          "data": {
            "text/plain": [
              "<Figure size 640x480 with 1 Axes>"
            ],
            "image/png": "[encoded data removed]"
          },
          "metadata": {}
        }
      ]
    }
  ],
  "metadata": {
    "kernelspec": {
      "display_name": "Python 3",
      "language": "python",
      "name": "python3"
    },
    "language_info": {
      "codemirror_mode": {
        "name": "ipython",
        "version": 3
      },
      "file_extension": ".py",
      "mimetype": "text/x-python",
      "name": "python",
      "nbconvert_exporter": "python",
      "pygments_lexer": "ipython3",
      "version": "3.11.4"
    },
    "orig_nbformat": 4,
    "colab": {
      "provenance": [],
      "include_colab_link": true
    }
  },
  "nbformat": 4,
  "nbformat_minor": 0
}