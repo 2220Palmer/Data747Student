{
  "cells": [
    {
      "cell_type": "markdown",
      "metadata": {
        "id": "view-in-github",
        "colab_type": "text"
      },
      "source": [
        "<a href=\"https://colab.research.google.com/github/2220Palmer/Data747Student/blob/main/Copy_of_week_4_PATTY_ARNOLD(1).ipynb\" target=\"_parent\"><img src=\"https://colab.research.google.com/assets/colab-badge.svg\" alt=\"Open In Colab\"/></a>"
      ]
    },
    {
      "cell_type": "markdown",
      "metadata": {
        "id": "8QdGzWheWfKP"
      },
      "source": [
        "## Lab Assignment: Introduction to Pandas\n",
        "Student:     **Patty Arnold**\n",
        "\n",
        "### Objective: To introduce data manipulation and analysis in Python using Pandas and understand Pandas data structures and basic operations.\n",
        "\n",
        "### Instructions:\n",
        "In this lab assignment, you will be introduced to data manipulation and analysis in Python using Pandas. You will learn how to create and manipulate Pandas data structures, perform basic data analysis and cleaning operations, and apply built-in functions to analyze and transform the data.\n",
        "\n",
        "You will be provided with the following five problems to solve. Please read the problem statement carefully and implement the solution using Pandas.\n",
        "\n",
        "1. Read a CSV file into a Pandas DataFrame.\n",
        "2. Display the first 5 rows of a Pandas DataFrame.\n",
        "3. Display the last 5 rows of a Pandas DataFrame.\n",
        "4. Create a new column in a Pandas DataFrame by combining two existing columns.\n",
        "5. Group a Pandas DataFrame by a specific column and calculate the mean of another column for each group.\n",
        "\n",
        "### Deliverable:\n",
        "Modify this notebook to include the python code as well as any documentation related to your submission.  Submit the notebook as your response in Blackboard.\n",
        "\n",
        "### Grading Criteria:\n",
        "\n",
        "Your lab assignment will be graded based on the following criteria:\n",
        "\n",
        "- Correctness of the implementation\n",
        "- Proper use of basic control structures and functions\n",
        "- Code efficiency\n",
        "- Clarity and readability of the code\n",
        "- Compliance with the instructions and deliverables.\n",
        "\n",
        "### Student Submission\n",
        "1.  Read a CSV file into a Pandas DataFrame."
      ]
    },
    {
      "cell_type": "code",
      "source": [
        "import pandas as pd\n",
        "\n",
        "df = pd.read_csv('/content/Financial Forecast.csv')\n",
        "print(df)"
      ],
      "metadata": {
        "colab": {
          "base_uri": "https://localhost:8080/"
        },
        "id": "0yk83k9Zec18",
        "outputId": "6a6e3803-b5b4-46ef-bbd4-662ac5c57387"
      },
      "execution_count": null,
      "outputs": [
        {
          "output_type": "stream",
          "name": "stdout",
          "text": [
            "    Year  Age  Salary  Savings  Job Match  Savings Total  Inflaction Rate  \\\n",
            "0   2025   25   35000     3500        175           3675             1.00   \n",
            "1   2026   26   35875     3588        179           3767             1.03   \n",
            "2   2027   27   36772     3677        184           3861             1.03   \n",
            "3   2028   28   37691     3769        188           3958             1.03   \n",
            "4   2029   29   38633     3863        193           4057             1.03   \n",
            "5   2030   30   39599     3960        198           4158             1.03   \n",
            "6   2031   31   40589     4059        203           4262             1.03   \n",
            "7   2032   32   41604     4160        208           4368             1.03   \n",
            "8   2033   33   42644     4264        213           4478             1.03   \n",
            "9   2034   34   43710     4371        219           4590             1.03   \n",
            "10  2035   35   44803     4480        224           4704             1.03   \n",
            "11  2036   36   45923     4592        230           4822             1.03   \n",
            "12  2037   37   47071     4707        235           4942             1.03   \n",
            "13  2038   38   48248     4825        241           5066             1.03   \n",
            "14  2039   39   49454     4945        247           5193             1.03   \n",
            "15  2040   40   50690     5069        253           5323             1.03   \n",
            "16  2041   41   51958     5196        260           5456             1.03   \n",
            "17  2042   42   53257     5326        266           5592             1.03   \n",
            "18  2043   43   54588     5459        273           5732             1.03   \n",
            "19  2044   44   55953     5595        280           5875             1.03   \n",
            "20  2045   45   57352     5735        287           6022             1.03   \n",
            "21  2046   46   58785     5879        294           6172             1.03   \n",
            "22  2047   47   60255     6026        301           6327             1.03   \n",
            "23  2048   48   61761     6176        309           6485             1.03   \n",
            "24  2049   49   63305     6331        317           6647             1.03   \n",
            "25  2050   50   64888     6489        324           6813             1.03   \n",
            "\n",
            "    Inflation Adjusted Total  \n",
            "0                       3675  \n",
            "1                       3654  \n",
            "2                       3745  \n",
            "3                       3839  \n",
            "4                       3935  \n",
            "5                       4033  \n",
            "6                       4134  \n",
            "7                       4237  \n",
            "8                       4343  \n",
            "9                       4452  \n",
            "10                      4563  \n",
            "11                      4677  \n",
            "12                      4794  \n",
            "13                      4914  \n",
            "14                      5037  \n",
            "15                      5163  \n",
            "16                      5292  \n",
            "17                      5424  \n",
            "18                      5560  \n",
            "19                      5699  \n",
            "20                      5841  \n",
            "21                      5987  \n",
            "22                      6137  \n",
            "23                      6290  \n",
            "24                      6448  \n",
            "25                      6609  \n"
          ]
        }
      ]
    },
    {
      "cell_type": "markdown",
      "metadata": {
        "id": "TDvcKl1fWfKY"
      },
      "source": [
        "2.  Display the first 5 rows of a Pandas DataFrame."
      ]
    },
    {
      "cell_type": "code",
      "execution_count": null,
      "metadata": {
        "id": "OjR8_i4YWfKY",
        "colab": {
          "base_uri": "https://localhost:8080/"
        },
        "outputId": "0e2dee44-d893-4754-e2ef-fa658f16da34"
      },
      "outputs": [
        {
          "output_type": "stream",
          "name": "stdout",
          "text": [
            "   Year  Age  Salary  Savings  Job Match  Savings Total  Inflaction Rate  \\\n",
            "0  2025   25   35000     3500        175           3675             1.00   \n",
            "1  2026   26   35875     3588        179           3767             1.03   \n",
            "2  2027   27   36772     3677        184           3861             1.03   \n",
            "3  2028   28   37691     3769        188           3958             1.03   \n",
            "4  2029   29   38633     3863        193           4057             1.03   \n",
            "\n",
            "   Inflation Adjusted Total  \n",
            "0                      3675  \n",
            "1                      3654  \n",
            "2                      3745  \n",
            "3                      3839  \n",
            "4                      3935  \n"
          ]
        }
      ],
      "source": [
        "import pandas as pd\n",
        "\n",
        "df = pd.read_csv('/content/Financial Forecast.csv')\n",
        "print(df.head(5))"
      ]
    },
    {
      "cell_type": "markdown",
      "metadata": {
        "id": "B8O46Sb5WfKZ"
      },
      "source": [
        "3.  Display the last 5 rows of a Pandas DataFrame."
      ]
    },
    {
      "cell_type": "code",
      "execution_count": null,
      "metadata": {
        "id": "IM--4DXeWfKa",
        "colab": {
          "base_uri": "https://localhost:8080/"
        },
        "outputId": "3b8282b6-8b01-45fb-ef60-d3c007283cdb"
      },
      "outputs": [
        {
          "output_type": "stream",
          "name": "stdout",
          "text": [
            "    Year  Age  Salary  Savings  Job Match  Savings Total  Inflaction Rate  \\\n",
            "21  2046   46   58785     5879        294           6172             1.03   \n",
            "22  2047   47   60255     6026        301           6327             1.03   \n",
            "23  2048   48   61761     6176        309           6485             1.03   \n",
            "24  2049   49   63305     6331        317           6647             1.03   \n",
            "25  2050   50   64888     6489        324           6813             1.03   \n",
            "\n",
            "    Inflation Adjusted Total  \n",
            "21                      5987  \n",
            "22                      6137  \n",
            "23                      6290  \n",
            "24                      6448  \n",
            "25                      6609  \n"
          ]
        }
      ],
      "source": [
        "import pandas as pd\n",
        "\n",
        "df = pd.read_csv('/content/Financial Forecast.csv')\n",
        "print(df.tail())"
      ]
    },
    {
      "cell_type": "markdown",
      "metadata": {
        "id": "zLPjMh70WfKa"
      },
      "source": [
        "4.  Create a new column in a Pandas DataFrame by combining two existing columns."
      ]
    },
    {
      "cell_type": "code",
      "execution_count": null,
      "metadata": {
        "id": "9Vtr2QzKWfKb",
        "colab": {
          "base_uri": "https://localhost:8080/"
        },
        "outputId": "af4b9de1-0b74-48fe-ce91-c20dfb2d0770"
      },
      "outputs": [
        {
          "output_type": "stream",
          "name": "stdout",
          "text": [
            "  Age Salary Age_Salary\n",
            "0  46  58785   46 58785\n",
            "1  47  60255   47 60255\n",
            "2  48  61761   48 61761\n"
          ]
        }
      ],
      "source": [
        "import pandas as pd\n",
        "\n",
        "df = pd.DataFrame({\n",
        "    'Age': ['46', '47', '48'],\n",
        "    'Salary': ['58785', '60255', '61761']\n",
        "\n",
        "})\n",
        "\n",
        "df['Age_Salary'] = df['Age'] + ' ' + df['Salary']\n",
        "print(df)\n"
      ]
    },
    {
      "cell_type": "markdown",
      "metadata": {
        "id": "qOdW1Sx3WfKb"
      },
      "source": [
        "5.  Group a Pandas DataFrame by a specific column and calculate the mean of another column for each group."
      ]
    },
    {
      "cell_type": "code",
      "execution_count": null,
      "metadata": {
        "id": "iswuOpDsWfKc",
        "colab": {
          "base_uri": "https://localhost:8080/"
        },
        "outputId": "b2001fa0-a17c-494b-9230-05b0a62351eb"
      },
      "outputs": [
        {
          "output_type": "stream",
          "name": "stdout",
          "text": [
            "Age\n",
            "46    58785.0\n",
            "47    60255.0\n",
            "48    61761.0\n",
            "49    63305.0\n",
            "50    64888.0\n",
            "Name: Salary, dtype: float64\n"
          ]
        }
      ],
      "source": [
        "import pandas as pd\n",
        "\n",
        "df = pd.DataFrame({\n",
        "    'Age': ['46', '47', '48', '49', '50'],\n",
        "    'Salary': [58785, 60255, 61761, 63305, 64888]\n",
        "})\n",
        "\n",
        "#Group by Age then calculate the mean of Salary\n",
        "\n",
        "mean_salaries = df.groupby('Age')['Salary'].mean()\n",
        "\n",
        "print(mean_salaries)\n"
      ]
    }
  ],
  "metadata": {
    "kernelspec": {
      "display_name": "Python 3",
      "language": "python",
      "name": "python3"
    },
    "language_info": {
      "name": "python",
      "version": "3.10.0"
    },
    "orig_nbformat": 4,
    "colab": {
      "provenance": [],
      "include_colab_link": true
    }
  },
  "nbformat": 4,
  "nbformat_minor": 0
}